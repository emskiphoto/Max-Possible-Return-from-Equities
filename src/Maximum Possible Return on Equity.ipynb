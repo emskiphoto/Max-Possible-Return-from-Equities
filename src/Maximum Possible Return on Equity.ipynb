{
 "cells": [
  {
   "cell_type": "markdown",
   "id": "295a53fa",
   "metadata": {},
   "source": [
    "# 1- ETL - Maximum Possible Return on Equity\n",
    "This is the first of multiple notebooks that are intended to address the objectives below.  This notebook:\n",
    "1. performs the Extract, Transform, Load of source data from Kaggle\n",
    "2. selects Tickers and intervals per criteria below\n",
    "3. saves only qualified records to disk as pickle format time series alphabetically (similar to source organization).\n",
    "\n",
    "Subsequent notebooks contain analysis and visualization.\n",
    "\n",
    "__Primary Objective:__  \n",
    "What is the maximum possible return that could be achieved trading the top performing NASDAQ and NYSE historical stocks from 02/01/2000 to 27/08/2024?\n",
    "\n",
    "__Secondary Objectives:__\n",
    "* explore 'return/bar' as a performance metric\n",
    "* understand distributions and possible application of 'return/bar'"
   ]
  },
  {
   "cell_type": "markdown",
   "id": "e14a92fe",
   "metadata": {},
   "source": [
    "## Conditions\n",
    "1. Equities, long only\n",
    "2. Look-ahead bias\n",
    "3. Diversification - hold 20 positions, each representing ~5% of portfolio (no other forms of diversification).\n",
    "4. 100% invested, always\n",
    "5. Trading Fees of \\\\$0.005 per share (Interactive Brokers)\n",
    "6. Slippage of 0.005%\n",
    "7. Holding period of at least 1 bar with no maximum period\n",
    "8. Assume position can be liquidated at close of bar and new position opened at open of next bar\n",
    "9. Equity must have sufficient transaction such that a \\\\$5000 purchase is <= 5% of the volume at  at the time of purchase and sale.  For example, a \\\\$1 dollar equity would require 5000 shares to form a \\\\$5000 position.  The equity must have a minimum volume of 5000/0.05 = 100000 shares.\n",
    "10. Income tax is not considered\n",
    "11. No leverage\n",
    "12. No attempt to validate source data (ie., were stock splits accounted for correctly?, does this data match other sources?)"
   ]
  },
  {
   "cell_type": "markdown",
   "id": "63d6b97b",
   "metadata": {},
   "source": [
    "## Source\n",
    "https://www.kaggle.com/datasets/sbgonenc96/2000-2024-stocks-data"
   ]
  },
  {
   "cell_type": "markdown",
   "id": "8aac7eb0",
   "metadata": {},
   "source": [
    "## Reference\n",
    "https://www.kaggle.com/code/sbgonenc96/stocks-timeanalysis"
   ]
  },
  {
   "cell_type": "code",
   "execution_count": 1,
   "id": "bcf497bc",
   "metadata": {},
   "outputs": [
    {
     "name": "stderr",
     "output_type": "stream",
     "text": [
      "c:\\users\\user\\onedrive\\stocks\\research & reference\\nb\\lib\\site-packages\\tqdm\\auto.py:21: TqdmWarning: IProgress not found. Please update jupyter and ipywidgets. See https://ipywidgets.readthedocs.io/en/stable/user_install.html\n",
      "  from .autonotebook import tqdm as notebook_tqdm\n"
     ]
    }
   ],
   "source": [
    "import kagglehub\n",
    "import pandas as pd\n",
    "import json\n",
    "import pathlib\n",
    "import pickle\n",
    "import matplotlib.pyplot as plt\n",
    "import tqdm\n",
    "# load local modules\n",
    "from config import *\n",
    "from utils import *\n",
    "%config Completer.use_jedi = False"
   ]
  },
  {
   "cell_type": "markdown",
   "id": "49263ded",
   "metadata": {},
   "source": [
    "## Methodology\n",
    "Filter to equities that meet minimum volume criteria.  Identify the top 30 positive percent change values for every interval measured from the 'open' to the 'close'.  Provide ordered list of ticker symbols for each interval, sorted descending by percent change.\n",
    "\n",
    "This Method will drastically reduce the amount of data present by using only qualified ticker-interval combinations.  \n",
    "\n",
    "### Position Logic\n",
    "1. Are there equities for whom the return for the next interval is greater thana position with a higher return "
   ]
  },
  {
   "cell_type": "markdown",
   "id": "0ad49330",
   "metadata": {},
   "source": [
    "### Volume Qualification Parameters\n",
    "Does the ticker meet minimum volume requirements?  On which timestamps? "
   ]
  },
  {
   "cell_type": "code",
   "execution_count": 2,
   "id": "4466bda2",
   "metadata": {},
   "outputs": [
    {
     "name": "stdout",
     "output_type": "stream",
     "text": [
      "equity_starting                     100000    \n",
      "size_position_pct                   0.05      \n",
      "position_max_pct_of_volume          0.05      \n",
      "size_position                       5000.0    \n",
      "min_ticker_dollar_volume            100000.0  \n",
      "\n",
      "\n"
     ]
    }
   ],
   "source": [
    "for k_, v_ in parameters.items():\n",
    "    print(\"{:<35} {:<10}\".format(k_, v_))\n",
    "print('\\n')"
   ]
  },
  {
   "cell_type": "markdown",
   "id": "3606ec2e",
   "metadata": {},
   "source": [
    "### Locations"
   ]
  },
  {
   "cell_type": "code",
   "execution_count": 3,
   "id": "f0e9b912",
   "metadata": {},
   "outputs": [
    {
     "data": {
      "text/plain": [
       "WindowsPath('C:/Users/user/.cache/kagglehub/datasets/sbgonenc96/2000-2024-stocks-data/versions/36')"
      ]
     },
     "execution_count": 3,
     "metadata": {},
     "output_type": "execute_result"
    }
   ],
   "source": [
    "root_dataset = \"sbgonenc96/2000-2024-stocks-data\"\n",
    "dir_dataset = pathlib.Path(kagglehub.config.DEFAULT_CACHE_FOLDER) / 'datasets' / root_dataset / 'versions/36'\n",
    "#  should be 'C:/Users/user/.cache/kagglehub/datasets/sbgonenc96/2000-2024-stocks-data/versions/36'\n",
    "assert dir_dataset.is_dir()\n",
    "dir_dataset"
   ]
  },
  {
   "cell_type": "code",
   "execution_count": 4,
   "id": "27d0aed8",
   "metadata": {},
   "outputs": [],
   "source": [
    "# local directory to hold processed output & more\n",
    "dir_data = pathlib.Path.cwd() / 'data'\n",
    "dir_data.mkdir(exist_ok=True)\n",
    "assert dir_data.is_dir()"
   ]
  },
  {
   "cell_type": "markdown",
   "id": "daf7e01c",
   "metadata": {},
   "source": [
    "### Load Data\n",
    "Obtain from Kaggle if this hasn't been done already, otherwise use data previously saved to disk."
   ]
  },
  {
   "cell_type": "code",
   "execution_count": 5,
   "id": "ad5e84e5",
   "metadata": {},
   "outputs": [],
   "source": [
    "# if dir_dataset already exists, assume no need to request dataset from Kaggle\n",
    "if not dir_dataset.is_dir():\n",
    "    # Download dataset - First time setup\n",
    "    path = kagglehub.dataset_download(root_dataset)\n",
    "    print(\"Path to dataset files:\", path)\n",
    "    dir_kaggle= pathlib.Path(path)\n",
    "else:\n",
    "    dir_kaggle= dir_dataset\n",
    "assert dir_kaggle.is_dir()"
   ]
  },
  {
   "cell_type": "markdown",
   "id": "e421f04c",
   "metadata": {},
   "source": [
    "#### Identify available files"
   ]
  },
  {
   "cell_type": "code",
   "execution_count": 6,
   "id": "4922d7d1",
   "metadata": {},
   "outputs": [
    {
     "data": {
      "text/plain": [
       "[WindowsPath('C:/Users/user/.cache/kagglehub/datasets/sbgonenc96/2000-2024-stocks-data/versions/36/A.json/A_merged.json'),\n",
       " WindowsPath('C:/Users/user/.cache/kagglehub/datasets/sbgonenc96/2000-2024-stocks-data/versions/36/B.json/B_merged.json'),\n",
       " WindowsPath('C:/Users/user/.cache/kagglehub/datasets/sbgonenc96/2000-2024-stocks-data/versions/36/C.json/C_merged.json')]"
      ]
     },
     "execution_count": 6,
     "metadata": {},
     "output_type": "execute_result"
    }
   ],
   "source": [
    "files_json = [list(f_.glob('*.json')) for f_ in dir_dataset.glob('*')]\n",
    "files_json = [x for xs in files_json for x in xs]\n",
    "assert files_json[-1].is_file()\n",
    "files_json[:3]"
   ]
  },
  {
   "cell_type": "markdown",
   "id": "f9e6ac50",
   "metadata": {},
   "source": [
    "### Open Single File"
   ]
  },
  {
   "cell_type": "code",
   "execution_count": 7,
   "id": "00982cd7",
   "metadata": {},
   "outputs": [],
   "source": [
    "# read a single file\n",
    "with open(files_json[-1], \"r\") as f:\n",
    "    data_json = json.load(f)\n",
    "# type(data_json)"
   ]
  },
  {
   "cell_type": "code",
   "execution_count": 8,
   "id": "556b1253",
   "metadata": {},
   "outputs": [
    {
     "data": {
      "text/plain": [
       "dict_keys(['ticker', 'queryCount', 'resultsCount', 'adjusted', 'results', 'status', 'request_id', 'count'])"
      ]
     },
     "execution_count": 8,
     "metadata": {},
     "output_type": "execute_result"
    }
   ],
   "source": [
    "data_json[0].keys()"
   ]
  },
  {
   "cell_type": "code",
   "execution_count": 9,
   "id": "9eb2a7fe",
   "metadata": {},
   "outputs": [
    {
     "data": {
      "text/html": [
       "<div>\n",
       "<style scoped>\n",
       "    .dataframe tbody tr th:only-of-type {\n",
       "        vertical-align: middle;\n",
       "    }\n",
       "\n",
       "    .dataframe tbody tr th {\n",
       "        vertical-align: top;\n",
       "    }\n",
       "\n",
       "    .dataframe thead th {\n",
       "        text-align: right;\n",
       "    }\n",
       "</style>\n",
       "<table border=\"1\" class=\"dataframe\">\n",
       "  <thead>\n",
       "    <tr style=\"text-align: right;\">\n",
       "      <th></th>\n",
       "      <th>volume</th>\n",
       "      <th>vwap</th>\n",
       "      <th>open</th>\n",
       "      <th>close</th>\n",
       "      <th>time</th>\n",
       "    </tr>\n",
       "  </thead>\n",
       "  <tbody>\n",
       "    <tr>\n",
       "      <th>0</th>\n",
       "      <td>9547333</td>\n",
       "      <td>0.0001</td>\n",
       "      <td>0.0001</td>\n",
       "      <td>0.0002</td>\n",
       "      <td>1661866200000</td>\n",
       "    </tr>\n",
       "    <tr>\n",
       "      <th>1</th>\n",
       "      <td>5000000</td>\n",
       "      <td>0.0002</td>\n",
       "      <td>0.0002</td>\n",
       "      <td>0.0002</td>\n",
       "      <td>1661875200000</td>\n",
       "    </tr>\n",
       "    <tr>\n",
       "      <th>2</th>\n",
       "      <td>3820000</td>\n",
       "      <td>0.0001</td>\n",
       "      <td>0.0001</td>\n",
       "      <td>0.0002</td>\n",
       "      <td>1661887800000</td>\n",
       "    </tr>\n",
       "    <tr>\n",
       "      <th>3</th>\n",
       "      <td>350000</td>\n",
       "      <td>0.0002</td>\n",
       "      <td>0.0002</td>\n",
       "      <td>0.0002</td>\n",
       "      <td>1661954400000</td>\n",
       "    </tr>\n",
       "    <tr>\n",
       "      <th>4</th>\n",
       "      <td>700000</td>\n",
       "      <td>0.0001</td>\n",
       "      <td>0.0001</td>\n",
       "      <td>0.0002</td>\n",
       "      <td>1661959800000</td>\n",
       "    </tr>\n",
       "  </tbody>\n",
       "</table>\n",
       "</div>"
      ],
      "text/plain": [
       "    volume    vwap    open   close           time\n",
       "0  9547333  0.0001  0.0001  0.0002  1661866200000\n",
       "1  5000000  0.0002  0.0002  0.0002  1661875200000\n",
       "2  3820000  0.0001  0.0001  0.0002  1661887800000\n",
       "3   350000  0.0002  0.0002  0.0002  1661954400000\n",
       "4   700000  0.0001  0.0001  0.0002  1661959800000"
      ]
     },
     "execution_count": 9,
     "metadata": {},
     "output_type": "execute_result"
    }
   ],
   "source": [
    "ticker = data_json[0]['ticker']\n",
    "col_rename = columns = {\"c\" : \"close\", \"h\":\"high\", \"l\": \"low\", \"n\":\"n_transactions\",\n",
    "                        \"o\": \"open\", \"t\":\"time\", \"v\":\"volume\", \"vw\":\"vwap\"}\n",
    "cols_use = ['volume', 'vwap', 'open', 'close', 'time']\n",
    "df = pd.DataFrame.from_dict(data_json[0]['results']).rename(columns=col_rename)[cols_use]\n",
    "df.head()"
   ]
  },
  {
   "cell_type": "code",
   "execution_count": 10,
   "id": "8c4673ca",
   "metadata": {},
   "outputs": [
    {
     "data": {
      "text/html": [
       "<div>\n",
       "<style scoped>\n",
       "    .dataframe tbody tr th:only-of-type {\n",
       "        vertical-align: middle;\n",
       "    }\n",
       "\n",
       "    .dataframe tbody tr th {\n",
       "        vertical-align: top;\n",
       "    }\n",
       "\n",
       "    .dataframe thead th {\n",
       "        text-align: right;\n",
       "    }\n",
       "</style>\n",
       "<table border=\"1\" class=\"dataframe\">\n",
       "  <thead>\n",
       "    <tr style=\"text-align: right;\">\n",
       "      <th></th>\n",
       "      <th>volume</th>\n",
       "      <th>vwap</th>\n",
       "      <th>open</th>\n",
       "      <th>close</th>\n",
       "    </tr>\n",
       "    <tr>\n",
       "      <th>time</th>\n",
       "      <th></th>\n",
       "      <th></th>\n",
       "      <th></th>\n",
       "      <th></th>\n",
       "    </tr>\n",
       "  </thead>\n",
       "  <tbody>\n",
       "    <tr>\n",
       "      <th>2024-08-13 14:30:00</th>\n",
       "      <td>5000000</td>\n",
       "      <td>NaN</td>\n",
       "      <td>0.000001</td>\n",
       "      <td>0.000001</td>\n",
       "    </tr>\n",
       "    <tr>\n",
       "      <th>2024-08-20 13:30:00</th>\n",
       "      <td>4686</td>\n",
       "      <td>NaN</td>\n",
       "      <td>0.000001</td>\n",
       "      <td>0.000001</td>\n",
       "    </tr>\n",
       "    <tr>\n",
       "      <th>2024-08-22 16:30:00</th>\n",
       "      <td>900</td>\n",
       "      <td>0.0001</td>\n",
       "      <td>0.000050</td>\n",
       "      <td>0.000050</td>\n",
       "    </tr>\n",
       "    <tr>\n",
       "      <th>2024-08-23 15:30:00</th>\n",
       "      <td>1000000</td>\n",
       "      <td>0.0001</td>\n",
       "      <td>0.000050</td>\n",
       "      <td>0.000050</td>\n",
       "    </tr>\n",
       "    <tr>\n",
       "      <th>2024-08-23 18:00:00</th>\n",
       "      <td>500000</td>\n",
       "      <td>0.0001</td>\n",
       "      <td>0.000050</td>\n",
       "      <td>0.000050</td>\n",
       "    </tr>\n",
       "  </tbody>\n",
       "</table>\n",
       "</div>"
      ],
      "text/plain": [
       "                      volume    vwap      open     close\n",
       "time                                                    \n",
       "2024-08-13 14:30:00  5000000     NaN  0.000001  0.000001\n",
       "2024-08-20 13:30:00     4686     NaN  0.000001  0.000001\n",
       "2024-08-22 16:30:00      900  0.0001  0.000050  0.000050\n",
       "2024-08-23 15:30:00  1000000  0.0001  0.000050  0.000050\n",
       "2024-08-23 18:00:00   500000  0.0001  0.000050  0.000050"
      ]
     },
     "execution_count": 10,
     "metadata": {},
     "output_type": "execute_result"
    }
   ],
   "source": [
    "df[\"time\"] = pd.to_datetime(df[\"time\"], unit=\"ms\")\n",
    "df = df.set_index(\"time\")\n",
    "df.tail()"
   ]
  },
  {
   "cell_type": "code",
   "execution_count": 11,
   "id": "bb1ca9d7",
   "metadata": {},
   "outputs": [
    {
     "data": {
      "text/plain": [
       "time\n",
       "2022-08-30 13:30:00    0.00015\n",
       "2022-08-30 16:00:00    0.00020\n",
       "2022-08-30 19:30:00    0.00015\n",
       "2022-08-31 14:00:00    0.00020\n",
       "2022-08-31 15:30:00    0.00015\n",
       "                        ...   \n",
       "2024-08-13 14:30:00        NaN\n",
       "2024-08-20 13:30:00        NaN\n",
       "2024-08-22 16:30:00    0.00005\n",
       "2024-08-23 15:30:00    0.00005\n",
       "2024-08-23 18:00:00    0.00005\n",
       "Name: vwap, Length: 874, dtype: float64"
      ]
     },
     "execution_count": 11,
     "metadata": {},
     "output_type": "execute_result"
    }
   ],
   "source": [
    "df['vwap'].where(df['vwap'].isna(), df[['open', 'close']].mean(axis=1))"
   ]
  },
  {
   "cell_type": "code",
   "execution_count": 12,
   "id": "bda31da0",
   "metadata": {},
   "outputs": [
    {
     "data": {
      "image/png": "[encoded data removed]",
      "text/plain": [
       "<Figure size 640x480 with 4 Axes>"
      ]
     },
     "metadata": {},
     "output_type": "display_data"
    }
   ],
   "source": [
    "df.select_dtypes(exclude=[object]).plot(subplots=True, title=ticker)\n",
    "plt.show()"
   ]
  },
  {
   "cell_type": "markdown",
   "id": "2f9a444f",
   "metadata": {},
   "source": [
    "### Example Ticker & Bar Qualification "
   ]
  },
  {
   "cell_type": "code",
   "execution_count": 13,
   "id": "7955c1fc",
   "metadata": {},
   "outputs": [],
   "source": [
    "df['has_min_volume'] = (df['volume'] * df['vwap'] > \n",
    "                        parameters['min_ticker_dollar_volume'])\n",
    "df['has_min_volume'] = df['has_min_volume'].astype(bool)"
   ]
  },
  {
   "cell_type": "code",
   "execution_count": 14,
   "id": "b87cad03",
   "metadata": {},
   "outputs": [],
   "source": [
    "df.drop(columns = ['volume', 'vwap'], inplace=True)"
   ]
  },
  {
   "cell_type": "code",
   "execution_count": 15,
   "id": "95578613",
   "metadata": {},
   "outputs": [
    {
     "data": {
      "text/html": [
       "<div>\n",
       "<style scoped>\n",
       "    .dataframe tbody tr th:only-of-type {\n",
       "        vertical-align: middle;\n",
       "    }\n",
       "\n",
       "    .dataframe tbody tr th {\n",
       "        vertical-align: top;\n",
       "    }\n",
       "\n",
       "    .dataframe thead th {\n",
       "        text-align: right;\n",
       "    }\n",
       "</style>\n",
       "<table border=\"1\" class=\"dataframe\">\n",
       "  <thead>\n",
       "    <tr style=\"text-align: right;\">\n",
       "      <th></th>\n",
       "      <th>open</th>\n",
       "      <th>close</th>\n",
       "      <th>has_min_volume</th>\n",
       "    </tr>\n",
       "    <tr>\n",
       "      <th>time</th>\n",
       "      <th></th>\n",
       "      <th></th>\n",
       "      <th></th>\n",
       "    </tr>\n",
       "  </thead>\n",
       "  <tbody>\n",
       "    <tr>\n",
       "      <th>2022-08-30 13:30:00</th>\n",
       "      <td>0.000100</td>\n",
       "      <td>0.000200</td>\n",
       "      <td>False</td>\n",
       "    </tr>\n",
       "    <tr>\n",
       "      <th>2022-08-30 16:00:00</th>\n",
       "      <td>0.000200</td>\n",
       "      <td>0.000200</td>\n",
       "      <td>False</td>\n",
       "    </tr>\n",
       "    <tr>\n",
       "      <th>2022-08-30 19:30:00</th>\n",
       "      <td>0.000100</td>\n",
       "      <td>0.000200</td>\n",
       "      <td>False</td>\n",
       "    </tr>\n",
       "    <tr>\n",
       "      <th>2022-08-31 14:00:00</th>\n",
       "      <td>0.000200</td>\n",
       "      <td>0.000200</td>\n",
       "      <td>False</td>\n",
       "    </tr>\n",
       "    <tr>\n",
       "      <th>2022-08-31 15:30:00</th>\n",
       "      <td>0.000100</td>\n",
       "      <td>0.000200</td>\n",
       "      <td>False</td>\n",
       "    </tr>\n",
       "    <tr>\n",
       "      <th>...</th>\n",
       "      <td>...</td>\n",
       "      <td>...</td>\n",
       "      <td>...</td>\n",
       "    </tr>\n",
       "    <tr>\n",
       "      <th>2024-08-13 14:30:00</th>\n",
       "      <td>0.000001</td>\n",
       "      <td>0.000001</td>\n",
       "      <td>False</td>\n",
       "    </tr>\n",
       "    <tr>\n",
       "      <th>2024-08-20 13:30:00</th>\n",
       "      <td>0.000001</td>\n",
       "      <td>0.000001</td>\n",
       "      <td>False</td>\n",
       "    </tr>\n",
       "    <tr>\n",
       "      <th>2024-08-22 16:30:00</th>\n",
       "      <td>0.000050</td>\n",
       "      <td>0.000050</td>\n",
       "      <td>False</td>\n",
       "    </tr>\n",
       "    <tr>\n",
       "      <th>2024-08-23 15:30:00</th>\n",
       "      <td>0.000050</td>\n",
       "      <td>0.000050</td>\n",
       "      <td>False</td>\n",
       "    </tr>\n",
       "    <tr>\n",
       "      <th>2024-08-23 18:00:00</th>\n",
       "      <td>0.000050</td>\n",
       "      <td>0.000050</td>\n",
       "      <td>False</td>\n",
       "    </tr>\n",
       "  </tbody>\n",
       "</table>\n",
       "<p>874 rows × 3 columns</p>\n",
       "</div>"
      ],
      "text/plain": [
       "                         open     close  has_min_volume\n",
       "time                                                   \n",
       "2022-08-30 13:30:00  0.000100  0.000200           False\n",
       "2022-08-30 16:00:00  0.000200  0.000200           False\n",
       "2022-08-30 19:30:00  0.000100  0.000200           False\n",
       "2022-08-31 14:00:00  0.000200  0.000200           False\n",
       "2022-08-31 15:30:00  0.000100  0.000200           False\n",
       "...                       ...       ...             ...\n",
       "2024-08-13 14:30:00  0.000001  0.000001           False\n",
       "2024-08-20 13:30:00  0.000001  0.000001           False\n",
       "2024-08-22 16:30:00  0.000050  0.000050           False\n",
       "2024-08-23 15:30:00  0.000050  0.000050           False\n",
       "2024-08-23 18:00:00  0.000050  0.000050           False\n",
       "\n",
       "[874 rows x 3 columns]"
      ]
     },
     "execution_count": 15,
     "metadata": {},
     "output_type": "execute_result"
    }
   ],
   "source": [
    "df[['open', 'close', 'has_min_volume']]"
   ]
  },
  {
   "cell_type": "code",
   "execution_count": 16,
   "id": "a7d0098c",
   "metadata": {},
   "outputs": [
    {
     "data": {
      "text/plain": [
       "has_min_volume\n",
       "False    873\n",
       "True       1\n",
       "Name: count, dtype: int64"
      ]
     },
     "execution_count": 16,
     "metadata": {},
     "output_type": "execute_result"
    }
   ],
   "source": [
    "df['has_min_volume'].value_counts()"
   ]
  },
  {
   "cell_type": "code",
   "execution_count": 17,
   "id": "e0b24f5d",
   "metadata": {},
   "outputs": [
    {
     "data": {
      "text/plain": [
       "time\n",
       "2022-10-13 18:30:00    0.020408\n",
       "Name: close, dtype: float64"
      ]
     },
     "execution_count": 17,
     "metadata": {},
     "output_type": "execute_result"
    }
   ],
   "source": [
    "df.loc[df['has_min_volume'], ['open', 'close']].pct_change(axis=1).iloc[:,-1]"
   ]
  },
  {
   "cell_type": "code",
   "execution_count": 18,
   "id": "6ab190a6",
   "metadata": {},
   "outputs": [],
   "source": [
    "dfs = {}\n",
    "dfs[ticker] = df.loc[df['has_min_volume'], ['open', 'close']].pct_change(axis=1).iloc[:,-1]"
   ]
  },
  {
   "cell_type": "code",
   "execution_count": 19,
   "id": "b5785438",
   "metadata": {},
   "outputs": [
    {
     "data": {
      "text/plain": [
       "time\n",
       "2022-10-13 18:30:00    0.020408\n",
       "Name: close, dtype: float64"
      ]
     },
     "execution_count": 19,
     "metadata": {},
     "output_type": "execute_result"
    }
   ],
   "source": [
    "dfs[ticker]"
   ]
  },
  {
   "cell_type": "markdown",
   "id": "dee03761",
   "metadata": {},
   "source": [
    "## Process All Files"
   ]
  },
  {
   "cell_type": "code",
   "execution_count": 20,
   "id": "24aa62a3",
   "metadata": {},
   "outputs": [],
   "source": [
    "col_rename = columns = {\"c\" : \"close\", \"h\":\"high\", \"l\": \"low\", \"n\":\"n_transactions\",\n",
    "                                \"o\": \"open\", \"t\":\"time\", \"v\":\"volume\", \"vw\":\"vwap\"}\n",
    "cols_use = ['volume', 'vwap', 'open', 'close', 'time']\n",
    "cols_required = set(['c', 'o', 't', 'v'])\n",
    "cols_checks = ['has_required_cols', 'has_min_volume',\n",
    "               'has_qualified_records']\n",
    "quality_checks = {}\n",
    "# has_required_cols = {}\n",
    "file_json_ = files_json[-1]"
   ]
  },
  {
   "cell_type": "code",
   "execution_count": 21,
   "id": "6926b36c",
   "metadata": {},
   "outputs": [
    {
     "name": "stderr",
     "output_type": "stream",
     "text": [
      "100%|██████████████████████████████████████████████████████████████████████| 26/26 [04:06<00:00,  9.47s/it]"
     ]
    },
    {
     "name": "stdout",
     "output_type": "stream",
     "text": [
      "CPU times: total: 4min\n",
      "Wall time: 4min 6s\n"
     ]
    },
    {
     "name": "stderr",
     "output_type": "stream",
     "text": [
      "\n"
     ]
    }
   ],
   "source": [
    "%%time\n",
    "for file_json_ in tqdm.tqdm(files_json):\n",
    "    dfs_ = {}\n",
    "    list_of_jsons = read_json(file_json_)\n",
    "    for json_ in list_of_jsons:\n",
    "#         track quality checks\n",
    "        checks_ = []\n",
    "#         identify ticker name\n",
    "        ticker = json_['ticker']\n",
    "#         print(ticker)\n",
    "#         check first ticker only for required columns\n",
    "        has_required_cols_ = len(cols_required.difference(\n",
    "                            json_['results'][0].keys())) == 0\n",
    "        checks_.append(has_required_cols_)\n",
    "#         has_vwap[ticker] = has_required_cols_\n",
    "#         ignore tickers that do not have the expected columns\n",
    "        if not has_required_cols_:\n",
    "            pass\n",
    "        elif has_required_cols_:\n",
    "            df = pd.DataFrame.from_dict(json_['results']).rename(\n",
    "                        columns=col_rename, errors='ignore')\n",
    "            df = df[df.columns.intersection(cols_use)]\n",
    "#             format timestamps & set as index\n",
    "#             in the interest of memory efficiency, leave 'time' as an integer\n",
    "#             df[\"time\"] = pd.to_datetime(df[\"time\"], unit=\"ms\")\n",
    "            df = df.set_index(\"time\")\n",
    "#             if 'vwap' is not provided, substitute the mean of 'open' and 'close'\n",
    "            has_vwap_ = 'vwap' in df.columns\n",
    "#             if vwap is provided, fill nan values as mean of 'open' and 'close'\n",
    "            if has_vwap_:\n",
    "                df['vwap'] = df['vwap'].mask(df['vwap'].isna(),\n",
    "                             df[['open', 'close']].mean(axis=1))\n",
    "            elif not has_vwap_:\n",
    "                df['vwap'] = df[['open', 'close']].mean(axis=1)\n",
    "#             when does ticker meet minimum volume criteria?\n",
    "            df['has_min_volume'] = df['volume'] * df['vwap'] > parameters['min_ticker_dollar_volume']\n",
    "            df['has_min_volume'] = df['has_min_volume'].astype(int)\n",
    "            checks_.append(df['has_min_volume'].mean())\n",
    "            has_qualified_records_ = df['has_min_volume'].eq(1).any()\n",
    "            checks_.append(has_qualified_records_)\n",
    "            if has_qualified_records_:\n",
    "                df.drop(columns = ['volume', 'vwap'], inplace=True)\n",
    "        #         df.loc[df['has_min_volume'], ['open', 'close']].pct_change(axis=1).iloc[:,-1]\n",
    "                dfs_[ticker] = df.loc[df['has_min_volume'].astype(bool), ['open', 'close']]\\\n",
    "                                .pct_change(axis=1).iloc[:,-1]\n",
    "#             if there are no qualified bars for ticker, ignore that ticker\n",
    "            elif not has_qualified_records_:\n",
    "                pass\n",
    "        quality_checks[ticker] = checks_\n",
    "    # Save dictionaries of time series to Pickle\n",
    "    pickle_out_name_ = file_json_.name.replace('_merged.json', '_qualified.pkl')\n",
    "    pickle_out_ = dir_data / pickle_out_name_\n",
    "    with open(pickle_out_, 'wb') as f:\n",
    "        pickle.dump(dfs_, f)\n",
    "    assert pickle_out_.is_file()"
   ]
  },
  {
   "cell_type": "markdown",
   "id": "611a57db",
   "metadata": {},
   "source": [
    "### Test Opening of Output files "
   ]
  },
  {
   "cell_type": "code",
   "execution_count": 22,
   "id": "7d50bf97",
   "metadata": {},
   "outputs": [
    {
     "data": {
      "text/plain": [
       "[WindowsPath('C:/Users/user/OneDrive/STOCKS/Research & Reference/nb/max possible return on equity/src/data/A_qualified.pkl'),\n",
       " WindowsPath('C:/Users/user/OneDrive/STOCKS/Research & Reference/nb/max possible return on equity/src/data/B_qualified.pkl'),\n",
       " WindowsPath('C:/Users/user/OneDrive/STOCKS/Research & Reference/nb/max possible return on equity/src/data/C_qualified.pkl')]"
      ]
     },
     "execution_count": 22,
     "metadata": {},
     "output_type": "execute_result"
    }
   ],
   "source": [
    "files_qualified = list(dir_data.glob('*_qualified.pkl'))\n",
    "files_qualified[:3]"
   ]
  },
  {
   "cell_type": "code",
   "execution_count": 23,
   "id": "2f84e77c",
   "metadata": {},
   "outputs": [
    {
     "name": "stdout",
     "output_type": "stream",
     "text": [
      "<class 'pandas.core.frame.DataFrame'>\n",
      "Index: 15487 entries, 1661779800000 to 1724232600000\n",
      "Columns: 1196 entries, AABB to AZZ\n",
      "dtypes: Sparse[float64, nan](1196)\n",
      "memory usage: 17.6 MB\n"
     ]
    }
   ],
   "source": [
    "# %%timeit\n",
    "# Load from Pickle\n",
    "df_pickle = read_pickle(files_qualified[0])\n",
    "df_sparse = pd.concat(df_pickle, axis=1).astype(pd.SparseDtype(\"float\"))\n",
    "df_sparse.info()"
   ]
  },
  {
   "cell_type": "code",
   "execution_count": 24,
   "id": "3dd99a11",
   "metadata": {},
   "outputs": [
    {
     "data": {
      "text/html": [
       "<div>\n",
       "<style scoped>\n",
       "    .dataframe tbody tr th:only-of-type {\n",
       "        vertical-align: middle;\n",
       "    }\n",
       "\n",
       "    .dataframe tbody tr th {\n",
       "        vertical-align: top;\n",
       "    }\n",
       "\n",
       "    .dataframe thead th {\n",
       "        text-align: right;\n",
       "    }\n",
       "</style>\n",
       "<table border=\"1\" class=\"dataframe\">\n",
       "  <thead>\n",
       "    <tr style=\"text-align: right;\">\n",
       "      <th></th>\n",
       "      <th>AABB</th>\n",
       "      <th>AACAY</th>\n",
       "      <th>AACG</th>\n",
       "      <th>AAC</th>\n",
       "      <th>AACI</th>\n",
       "      <th>AACIU</th>\n",
       "      <th>AACIW</th>\n",
       "      <th>AACT</th>\n",
       "      <th>AADI</th>\n",
       "      <th>AAFRF</th>\n",
       "      <th>...</th>\n",
       "      <th>AZO</th>\n",
       "      <th>AZPN</th>\n",
       "      <th>AZREF</th>\n",
       "      <th>AZRE</th>\n",
       "      <th>AZRMF</th>\n",
       "      <th>AZTA</th>\n",
       "      <th>AZTR</th>\n",
       "      <th>AZUL</th>\n",
       "      <th>AZYO</th>\n",
       "      <th>AZZ</th>\n",
       "    </tr>\n",
       "    <tr>\n",
       "      <th>time</th>\n",
       "      <th></th>\n",
       "      <th></th>\n",
       "      <th></th>\n",
       "      <th></th>\n",
       "      <th></th>\n",
       "      <th></th>\n",
       "      <th></th>\n",
       "      <th></th>\n",
       "      <th></th>\n",
       "      <th></th>\n",
       "      <th></th>\n",
       "      <th></th>\n",
       "      <th></th>\n",
       "      <th></th>\n",
       "      <th></th>\n",
       "      <th></th>\n",
       "      <th></th>\n",
       "      <th></th>\n",
       "      <th></th>\n",
       "      <th></th>\n",
       "      <th></th>\n",
       "    </tr>\n",
       "  </thead>\n",
       "  <tbody>\n",
       "    <tr>\n",
       "      <th>1661779800000</th>\n",
       "      <td>0.053105</td>\n",
       "      <td>NaN</td>\n",
       "      <td>NaN</td>\n",
       "      <td>NaN</td>\n",
       "      <td>NaN</td>\n",
       "      <td>NaN</td>\n",
       "      <td>NaN</td>\n",
       "      <td>NaN</td>\n",
       "      <td>0.026054</td>\n",
       "      <td>NaN</td>\n",
       "      <td>...</td>\n",
       "      <td>0.006121</td>\n",
       "      <td>0.00014</td>\n",
       "      <td>NaN</td>\n",
       "      <td>NaN</td>\n",
       "      <td>NaN</td>\n",
       "      <td>-0.00352</td>\n",
       "      <td>NaN</td>\n",
       "      <td>0.003891</td>\n",
       "      <td>NaN</td>\n",
       "      <td>NaN</td>\n",
       "    </tr>\n",
       "    <tr>\n",
       "      <th>1661866200000</th>\n",
       "      <td>0.022735</td>\n",
       "      <td>NaN</td>\n",
       "      <td>NaN</td>\n",
       "      <td>NaN</td>\n",
       "      <td>NaN</td>\n",
       "      <td>NaN</td>\n",
       "      <td>NaN</td>\n",
       "      <td>NaN</td>\n",
       "      <td>-0.006372</td>\n",
       "      <td>NaN</td>\n",
       "      <td>...</td>\n",
       "      <td>0.000632</td>\n",
       "      <td>-0.00699</td>\n",
       "      <td>NaN</td>\n",
       "      <td>-0.101562</td>\n",
       "      <td>NaN</td>\n",
       "      <td>-0.018182</td>\n",
       "      <td>NaN</td>\n",
       "      <td>-0.040681</td>\n",
       "      <td>NaN</td>\n",
       "      <td>NaN</td>\n",
       "    </tr>\n",
       "    <tr>\n",
       "      <th>1662039000000</th>\n",
       "      <td>0.024308</td>\n",
       "      <td>NaN</td>\n",
       "      <td>NaN</td>\n",
       "      <td>NaN</td>\n",
       "      <td>NaN</td>\n",
       "      <td>NaN</td>\n",
       "      <td>NaN</td>\n",
       "      <td>NaN</td>\n",
       "      <td>NaN</td>\n",
       "      <td>NaN</td>\n",
       "      <td>...</td>\n",
       "      <td>0.0038</td>\n",
       "      <td>-0.007967</td>\n",
       "      <td>NaN</td>\n",
       "      <td>-0.038889</td>\n",
       "      <td>NaN</td>\n",
       "      <td>-0.016231</td>\n",
       "      <td>NaN</td>\n",
       "      <td>-0.019979</td>\n",
       "      <td>NaN</td>\n",
       "      <td>-0.002943</td>\n",
       "    </tr>\n",
       "    <tr>\n",
       "      <th>1662125400000</th>\n",
       "      <td>0.024194</td>\n",
       "      <td>NaN</td>\n",
       "      <td>NaN</td>\n",
       "      <td>NaN</td>\n",
       "      <td>NaN</td>\n",
       "      <td>NaN</td>\n",
       "      <td>NaN</td>\n",
       "      <td>NaN</td>\n",
       "      <td>-0.022415</td>\n",
       "      <td>NaN</td>\n",
       "      <td>...</td>\n",
       "      <td>0.000205</td>\n",
       "      <td>0.005316</td>\n",
       "      <td>NaN</td>\n",
       "      <td>0.020173</td>\n",
       "      <td>NaN</td>\n",
       "      <td>-0.020841</td>\n",
       "      <td>NaN</td>\n",
       "      <td>-0.045643</td>\n",
       "      <td>NaN</td>\n",
       "      <td>NaN</td>\n",
       "    </tr>\n",
       "    <tr>\n",
       "      <th>1662127200000</th>\n",
       "      <td>0.039062</td>\n",
       "      <td>NaN</td>\n",
       "      <td>NaN</td>\n",
       "      <td>NaN</td>\n",
       "      <td>NaN</td>\n",
       "      <td>NaN</td>\n",
       "      <td>NaN</td>\n",
       "      <td>NaN</td>\n",
       "      <td>0.029235</td>\n",
       "      <td>NaN</td>\n",
       "      <td>...</td>\n",
       "      <td>-0.00047</td>\n",
       "      <td>0.00346</td>\n",
       "      <td>NaN</td>\n",
       "      <td>-0.002825</td>\n",
       "      <td>NaN</td>\n",
       "      <td>0.009299</td>\n",
       "      <td>NaN</td>\n",
       "      <td>0.025</td>\n",
       "      <td>NaN</td>\n",
       "      <td>NaN</td>\n",
       "    </tr>\n",
       "  </tbody>\n",
       "</table>\n",
       "<p>5 rows × 1196 columns</p>\n",
       "</div>"
      ],
      "text/plain": [
       "                   AABB  AACAY  AACG  AAC  AACI  AACIU  AACIW  AACT      AADI  \\\n",
       "time                                                                            \n",
       "1661779800000  0.053105    NaN   NaN  NaN   NaN    NaN    NaN   NaN  0.026054   \n",
       "1661866200000  0.022735    NaN   NaN  NaN   NaN    NaN    NaN   NaN -0.006372   \n",
       "1662039000000  0.024308    NaN   NaN  NaN   NaN    NaN    NaN   NaN       NaN   \n",
       "1662125400000  0.024194    NaN   NaN  NaN   NaN    NaN    NaN   NaN -0.022415   \n",
       "1662127200000  0.039062    NaN   NaN  NaN   NaN    NaN    NaN   NaN  0.029235   \n",
       "\n",
       "               AAFRF  ...       AZO      AZPN  AZREF      AZRE  AZRMF  \\\n",
       "time                  ...                                               \n",
       "1661779800000    NaN  ...  0.006121   0.00014    NaN       NaN    NaN   \n",
       "1661866200000    NaN  ...  0.000632  -0.00699    NaN -0.101562    NaN   \n",
       "1662039000000    NaN  ...    0.0038 -0.007967    NaN -0.038889    NaN   \n",
       "1662125400000    NaN  ...  0.000205  0.005316    NaN  0.020173    NaN   \n",
       "1662127200000    NaN  ...  -0.00047   0.00346    NaN -0.002825    NaN   \n",
       "\n",
       "                   AZTA  AZTR      AZUL  AZYO       AZZ  \n",
       "time                                                     \n",
       "1661779800000  -0.00352   NaN  0.003891   NaN       NaN  \n",
       "1661866200000 -0.018182   NaN -0.040681   NaN       NaN  \n",
       "1662039000000 -0.016231   NaN -0.019979   NaN -0.002943  \n",
       "1662125400000 -0.020841   NaN -0.045643   NaN       NaN  \n",
       "1662127200000  0.009299   NaN     0.025   NaN       NaN  \n",
       "\n",
       "[5 rows x 1196 columns]"
      ]
     },
     "execution_count": 24,
     "metadata": {},
     "output_type": "execute_result"
    }
   ],
   "source": [
    "df_sparse.head()"
   ]
  },
  {
   "cell_type": "code",
   "execution_count": 25,
   "id": "a095efd2",
   "metadata": {},
   "outputs": [
    {
     "data": {
      "text/plain": [
       "<Axes: >"
      ]
     },
     "execution_count": 25,
     "metadata": {},
     "output_type": "execute_result"
    },
    {
     "data": {
      "image/png": "[encoded data removed]",
      "text/plain": [
       "<Figure size 640x480 with 1 Axes>"
      ]
     },
     "metadata": {},
     "output_type": "display_data"
    }
   ],
   "source": [
    "df_sparse.mean().hist(bins=150, density=True)"
   ]
  },
  {
   "cell_type": "code",
   "execution_count": 26,
   "id": "cff300ec",
   "metadata": {},
   "outputs": [
    {
     "data": {
      "image/png": "[encoded data removed]",
      "text/plain": [
       "<Figure size 1000x400 with 1 Axes>"
      ]
     },
     "metadata": {},
     "output_type": "display_data"
    }
   ],
   "source": [
    "fig, ax = plt.subplots(figsize = (10,4))\n",
    "ax.ecdf(df_sparse.stack().dropna().values, lw=3)\n",
    "ax.set_xlim(-0.2, 0.2)\n",
    "ax.axvline(0, color='black', linestyle=':')\n",
    "ax.set_title('ECDF of Qualified Per Bar Return %')\n",
    "plt.show()"
   ]
  },
  {
   "cell_type": "markdown",
   "id": "ff1ff792",
   "metadata": {},
   "source": [
    "### Review Quality Checks"
   ]
  },
  {
   "cell_type": "code",
   "execution_count": 27,
   "id": "5d158a4d",
   "metadata": {},
   "outputs": [
    {
     "name": "stdout",
     "output_type": "stream",
     "text": [
      "C:\\Users\\user\\OneDrive\\STOCKS\\Research & Reference\\nb\\max possible return on equity\\src\\data\\quality_checks.csv\n"
     ]
    },
    {
     "data": {
      "text/html": [
       "<div>\n",
       "<style scoped>\n",
       "    .dataframe tbody tr th:only-of-type {\n",
       "        vertical-align: middle;\n",
       "    }\n",
       "\n",
       "    .dataframe tbody tr th {\n",
       "        vertical-align: top;\n",
       "    }\n",
       "\n",
       "    .dataframe thead th {\n",
       "        text-align: right;\n",
       "    }\n",
       "</style>\n",
       "<table border=\"1\" class=\"dataframe\">\n",
       "  <thead>\n",
       "    <tr style=\"text-align: right;\">\n",
       "      <th></th>\n",
       "      <th>has_required_cols</th>\n",
       "      <th>has_min_volume</th>\n",
       "      <th>has_qualified_records</th>\n",
       "    </tr>\n",
       "  </thead>\n",
       "  <tbody>\n",
       "    <tr>\n",
       "      <th>AAALY</th>\n",
       "      <td>True</td>\n",
       "      <td>0.000000</td>\n",
       "      <td>False</td>\n",
       "    </tr>\n",
       "    <tr>\n",
       "      <th>AABB</th>\n",
       "      <td>True</td>\n",
       "      <td>0.027597</td>\n",
       "      <td>True</td>\n",
       "    </tr>\n",
       "    <tr>\n",
       "      <th>AABVF</th>\n",
       "      <td>True</td>\n",
       "      <td>0.000000</td>\n",
       "      <td>False</td>\n",
       "    </tr>\n",
       "    <tr>\n",
       "      <th>AACAF</th>\n",
       "      <td>True</td>\n",
       "      <td>0.000000</td>\n",
       "      <td>False</td>\n",
       "    </tr>\n",
       "    <tr>\n",
       "      <th>AACAY</th>\n",
       "      <td>True</td>\n",
       "      <td>0.026025</td>\n",
       "      <td>True</td>\n",
       "    </tr>\n",
       "  </tbody>\n",
       "</table>\n",
       "</div>"
      ],
      "text/plain": [
       "       has_required_cols  has_min_volume  has_qualified_records\n",
       "AAALY               True        0.000000                  False\n",
       "AABB                True        0.027597                   True\n",
       "AABVF               True        0.000000                  False\n",
       "AACAF               True        0.000000                  False\n",
       "AACAY               True        0.026025                   True"
      ]
     },
     "execution_count": 27,
     "metadata": {},
     "output_type": "execute_result"
    }
   ],
   "source": [
    "df_checks = pd.DataFrame.from_dict(quality_checks, orient='index',\n",
    "                                   columns=cols_checks)\n",
    "# save df_checks to disk\n",
    "file_checks = dir_data / 'quality_checks.csv'\n",
    "df_checks.to_csv(file_checks)\n",
    "assert file_checks.is_file()\n",
    "print(file_checks)\n",
    "df_checks.head()"
   ]
  },
  {
   "cell_type": "code",
   "execution_count": 28,
   "id": "4fdf8743",
   "metadata": {},
   "outputs": [
    {
     "data": {
      "text/plain": [
       "has_required_cols        1.000000\n",
       "has_min_volume           0.161288\n",
       "has_qualified_records    0.562547\n",
       "dtype: float64"
      ]
     },
     "execution_count": 28,
     "metadata": {},
     "output_type": "execute_result"
    }
   ],
   "source": [
    "df_checks.mean()"
   ]
  },
  {
   "cell_type": "markdown",
   "id": "aacda6c0",
   "metadata": {},
   "source": [
    "#### How many Tickers have at least one qualified bar (interval)?"
   ]
  },
  {
   "cell_type": "code",
   "execution_count": 29,
   "id": "8125532e",
   "metadata": {},
   "outputs": [
    {
     "data": {
      "text/html": [
       "<div>\n",
       "<style scoped>\n",
       "    .dataframe tbody tr th:only-of-type {\n",
       "        vertical-align: middle;\n",
       "    }\n",
       "\n",
       "    .dataframe tbody tr th {\n",
       "        vertical-align: top;\n",
       "    }\n",
       "\n",
       "    .dataframe thead th {\n",
       "        text-align: right;\n",
       "    }\n",
       "</style>\n",
       "<table border=\"1\" class=\"dataframe\">\n",
       "  <thead>\n",
       "    <tr style=\"text-align: right;\">\n",
       "      <th></th>\n",
       "      <th>Count of Qualified Tickers</th>\n",
       "    </tr>\n",
       "    <tr>\n",
       "      <th>has_qualified_records</th>\n",
       "      <th></th>\n",
       "    </tr>\n",
       "  </thead>\n",
       "  <tbody>\n",
       "    <tr>\n",
       "      <th>True</th>\n",
       "      <td>12088</td>\n",
       "    </tr>\n",
       "    <tr>\n",
       "      <th>False</th>\n",
       "      <td>9400</td>\n",
       "    </tr>\n",
       "  </tbody>\n",
       "</table>\n",
       "</div>"
      ],
      "text/plain": [
       "                       Count of Qualified Tickers\n",
       "has_qualified_records                            \n",
       "True                                        12088\n",
       "False                                        9400"
      ]
     },
     "execution_count": 29,
     "metadata": {},
     "output_type": "execute_result"
    }
   ],
   "source": [
    "df_checks['has_qualified_records'].value_counts().to_frame(\n",
    "    name='Count of Qualified Tickers')"
   ]
  },
  {
   "cell_type": "markdown",
   "id": "3ed43a66",
   "metadata": {},
   "source": [
    "#### How many Tickers meet Minimum Trading \\\\$ Volume Criteria?\n",
    "..across available intervals"
   ]
  },
  {
   "cell_type": "code",
   "execution_count": 30,
   "id": "5575cbc1",
   "metadata": {},
   "outputs": [
    {
     "data": {
      "image/png": "[encoded data removed]",
      "text/plain": [
       "<Figure size 1000x400 with 1 Axes>"
      ]
     },
     "metadata": {},
     "output_type": "display_data"
    }
   ],
   "source": [
    "pd.cut(df_checks['has_min_volume'], bins=10).value_counts(normalize=True)\\\n",
    "    .sort_index().plot.bar(figsize=(10,4), \n",
    "       title=f'% of Intervals Where Ticker Dollar Volume is > ${parameters[\"min_ticker_dollar_volume\"]:,}, by Ticker')\n",
    "plt.show()"
   ]
  },
  {
   "cell_type": "markdown",
   "id": "30430f08",
   "metadata": {},
   "source": [
    "### Observations\n",
    "* 12088 tickers have at least one qualified interval\n",
    "* 9400 tickers do not have any qualified intervals\n",
    "* There were roughly 12000 tickers over a ~20-year period that would be considered tradable per the minimum volume criteria. \n",
    "* More than 70% of tickers have less than \\\\$100,000 of 30-minute interval dollar volume for >90% of their history"
   ]
  },
  {
   "cell_type": "markdown",
   "id": "a65bd865",
   "metadata": {},
   "source": [
    "# END Processing "
   ]
  },
  {
   "cell_type": "markdown",
   "id": "c571698e",
   "metadata": {},
   "source": [
    "## Notes - Reference Only\n",
    "Testing of saving and loading various data formats"
   ]
  },
  {
   "cell_type": "code",
   "execution_count": 31,
   "id": "1e2a5947",
   "metadata": {},
   "outputs": [
    {
     "name": "stdout",
     "output_type": "stream",
     "text": [
      "102 ms ± 687 µs per loop (mean ± std. dev. of 7 runs, 10 loops each)\n"
     ]
    }
   ],
   "source": [
    "%%timeit\n",
    "# Load from Pickle\n",
    "with open(files_qualified[0], 'rb') as f:\n",
    "    df_pickle = pickle.load(f)"
   ]
  },
  {
   "cell_type": "code",
   "execution_count": 32,
   "id": "0512b74d",
   "metadata": {},
   "outputs": [
    {
     "name": "stdout",
     "output_type": "stream",
     "text": [
      "573 ms ± 6.68 ms per loop (mean ± std. dev. of 7 runs, 1 loop each)\n"
     ]
    }
   ],
   "source": [
    "%%timeit\n",
    "df_conv = pd.concat(df_pickle, axis=1)\n",
    "# df_conv.info()"
   ]
  },
  {
   "cell_type": "code",
   "execution_count": 33,
   "id": "de3cc3c2",
   "metadata": {},
   "outputs": [],
   "source": [
    "# %%timeit\n",
    "# df_conv.iloc[:,:100].mean()"
   ]
  },
  {
   "cell_type": "code",
   "execution_count": 34,
   "id": "c742ce35",
   "metadata": {},
   "outputs": [
    {
     "name": "stdout",
     "output_type": "stream",
     "text": [
      "767 ms ± 9.42 ms per loop (mean ± std. dev. of 7 runs, 1 loop each)\n"
     ]
    }
   ],
   "source": [
    "%%timeit\n",
    "df_sparse = pd.concat(df_pickle, axis=1).astype(pd.SparseDtype(\"float\"))\n",
    "# df_sparse.info()"
   ]
  },
  {
   "cell_type": "code",
   "execution_count": 35,
   "id": "00402f1f",
   "metadata": {},
   "outputs": [],
   "source": [
    "# %%timeit\n",
    "# df_sparse.iloc[:,:100].mean()"
   ]
  },
  {
   "cell_type": "code",
   "execution_count": 36,
   "id": "d6256c6c",
   "metadata": {},
   "outputs": [
    {
     "name": "stderr",
     "output_type": "stream",
     "text": [
      "C:\\Users\\user\\AppData\\Local\\Temp\\ipykernel_8784\\628235894.py:7: FutureWarning: 'H' is deprecated and will be removed in a future version, please use 'h' instead.\n",
      "  timestamps = pd.date_range('2023-01-01', periods=n_periods, freq='H')\n"
     ]
    },
    {
     "data": {
      "text/html": [
       "<div>\n",
       "<style scoped>\n",
       "    .dataframe tbody tr th:only-of-type {\n",
       "        vertical-align: middle;\n",
       "    }\n",
       "\n",
       "    .dataframe tbody tr th {\n",
       "        vertical-align: top;\n",
       "    }\n",
       "\n",
       "    .dataframe thead th {\n",
       "        text-align: right;\n",
       "    }\n",
       "</style>\n",
       "<table border=\"1\" class=\"dataframe\">\n",
       "  <thead>\n",
       "    <tr style=\"text-align: right;\">\n",
       "      <th></th>\n",
       "      <th>timestamp</th>\n",
       "      <th>value</th>\n",
       "    </tr>\n",
       "  </thead>\n",
       "  <tbody>\n",
       "    <tr>\n",
       "      <th>0</th>\n",
       "      <td>1672531200000</td>\n",
       "      <td>0</td>\n",
       "    </tr>\n",
       "    <tr>\n",
       "      <th>1</th>\n",
       "      <td>1672534800000</td>\n",
       "      <td>0</td>\n",
       "    </tr>\n",
       "    <tr>\n",
       "      <th>2</th>\n",
       "      <td>1672538400000</td>\n",
       "      <td>0</td>\n",
       "    </tr>\n",
       "    <tr>\n",
       "      <th>3</th>\n",
       "      <td>1672542000000</td>\n",
       "      <td>0.902052</td>\n",
       "    </tr>\n",
       "    <tr>\n",
       "      <th>4</th>\n",
       "      <td>1672545600000</td>\n",
       "      <td>0</td>\n",
       "    </tr>\n",
       "  </tbody>\n",
       "</table>\n",
       "</div>"
      ],
      "text/plain": [
       "       timestamp     value\n",
       "0  1672531200000         0\n",
       "1  1672534800000         0\n",
       "2  1672538400000         0\n",
       "3  1672542000000  0.902052\n",
       "4  1672545600000         0"
      ]
     },
     "execution_count": 36,
     "metadata": {},
     "output_type": "execute_result"
    }
   ],
   "source": [
    "# import pandas as pd\n",
    "import numpy as np\n",
    "from scipy import sparse\n",
    "\n",
    "# Create sample sparse time series data\n",
    "n_periods = 100000\n",
    "timestamps = pd.date_range('2023-01-01', periods=n_periods, freq='H')\n",
    "timestamps = [1000 * int(x_.timestamp()) for x_ in timestamps]\n",
    "data = np.random.rand(n_periods)\n",
    "data[np.random.rand(n_periods) < 0.9] = 0  # Make it sparse\n",
    "\n",
    "# Create a SparseDataFrame\n",
    "sparse_df = pd.DataFrame({'timestamp': timestamps, 'value': data})\\\n",
    "                .astype({'value' : pd.SparseDtype(\"float\", 0),\n",
    "                         'timestamp': int})\n",
    "sparse_df.head()"
   ]
  },
  {
   "cell_type": "code",
   "execution_count": 37,
   "id": "998ad5d2",
   "metadata": {},
   "outputs": [],
   "source": [
    "file_csv = 'delete_sparse_time_series.csv'"
   ]
  },
  {
   "cell_type": "code",
   "execution_count": 38,
   "id": "dc47fb08",
   "metadata": {},
   "outputs": [
    {
     "name": "stdout",
     "output_type": "stream",
     "text": [
      "97.9 ms ± 3.23 ms per loop (mean ± std. dev. of 7 runs, 10 loops each)\n"
     ]
    }
   ],
   "source": [
    "%%timeit\n",
    "# Save to CSV\n",
    "\n",
    "sparse_df.to_csv(file_csv, index=False)"
   ]
  },
  {
   "cell_type": "code",
   "execution_count": 39,
   "id": "5416fc38",
   "metadata": {},
   "outputs": [
    {
     "name": "stdout",
     "output_type": "stream",
     "text": [
      "29.3 ms ± 622 µs per loop (mean ± std. dev. of 7 runs, 10 loops each)\n"
     ]
    }
   ],
   "source": [
    "%%timeit\n",
    "df_csv = pd.read_csv(file_csv)"
   ]
  },
  {
   "cell_type": "code",
   "execution_count": 40,
   "id": "cb890b5e",
   "metadata": {},
   "outputs": [],
   "source": [
    "file_pickle = 'sparse_time_series.pkl'"
   ]
  },
  {
   "cell_type": "code",
   "execution_count": 41,
   "id": "15b5743c",
   "metadata": {},
   "outputs": [
    {
     "name": "stdout",
     "output_type": "stream",
     "text": [
      "719 µs ± 22 µs per loop (mean ± std. dev. of 7 runs, 1,000 loops each)\n"
     ]
    }
   ],
   "source": [
    "%%timeit\n",
    "# Save to Pickle (fast serialization)\n",
    "\n",
    "sparse_df.to_pickle(file_pickle)"
   ]
  },
  {
   "cell_type": "code",
   "execution_count": 42,
   "id": "89a00a26",
   "metadata": {},
   "outputs": [
    {
     "name": "stdout",
     "output_type": "stream",
     "text": [
      "428 µs ± 7.54 µs per loop (mean ± std. dev. of 7 runs, 1,000 loops each)\n"
     ]
    }
   ],
   "source": [
    "%%timeit\n",
    "df_pickle = pd.read_pickle(file_pickle)"
   ]
  }
 ],
 "metadata": {
  "kernelspec": {
   "display_name": "nb",
   "language": "python",
   "name": "nb"
  },
  "language_info": {
   "codemirror_mode": {
    "name": "ipython",
    "version": 3
   },
   "file_extension": ".py",
   "mimetype": "text/x-python",
   "name": "python",
   "nbconvert_exporter": "python",
   "pygments_lexer": "ipython3",
   "version": "3.9.2"
  }
 },
 "nbformat": 4,
 "nbformat_minor": 5
}
